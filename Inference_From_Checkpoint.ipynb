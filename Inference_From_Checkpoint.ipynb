{
 "cells": [
  {
   "cell_type": "code",
   "execution_count": 6,
   "metadata": {},
   "outputs": [],
   "source": [
    "# Path to exported model pipeline.config\n",
    "PATH_TO_CFG = \"./exported_models/run2/pipeline.config\"\n",
    "\n",
    "# Path to exported model checkpoint folder\n",
    "PATH_TO_CKPT = \"./exported_models/run2/checkpoint\"\n",
    "\n",
    "# Path to eval image\n",
    "IMAGE_PATHS = [\"./original1.jpg\"]"
   ]
  },
  {
   "cell_type": "code",
   "execution_count": 2,
   "metadata": {},
   "outputs": [
    {
     "name": "stdout",
     "output_type": "stream",
     "text": [
      "2.3.1\n",
      "Available GPU devices: \n"
     ]
    }
   ],
   "source": [
    "import os\n",
    "import pathlib\n",
    "import tensorflow as tf\n",
    "\n",
    "import matplotlib.pyplot as plt\n",
    "import numpy as np\n",
    "\n",
    "tf.get_logger().setLevel('ERROR')\n",
    "\n",
    "import time\n",
    "\n",
    "print(tf.__version__)\n",
    "print(\"Available GPU devices: %s\" % tf.test.gpu_device_name())"
   ]
  },
  {
   "cell_type": "code",
   "execution_count": 3,
   "metadata": {},
   "outputs": [
    {
     "name": "stdout",
     "output_type": "stream",
     "text": [
      "Loading model...Done! Took 0.0753927230834961 seconds\n"
     ]
    }
   ],
   "source": [
    "# Load our model\n",
    "import time\n",
    "from object_detection.utils import label_map_util\n",
    "from object_detection.utils import config_util\n",
    "from object_detection.utils import visualization_utils as viz_utils\n",
    "from object_detection.builders import model_builder\n",
    "\n",
    "\n",
    "\n",
    "print(\"Loading model...\", end='')\n",
    "start_time = time.time()\n",
    "\n",
    "# Load pipeline config and build a detection model\n",
    "configs = config_util.get_configs_from_pipeline_file(PATH_TO_CFG)\n",
    "model_config = configs['model']\n",
    "detection_model = model_builder.build(model_config=model_config, is_training=False)\n",
    "\n",
    "# Restore checkpoint\n",
    "ckpt = tf.compat.v2.train.Checkpoint(model=detection_model)\n",
    "ckpt.restore(os.path.join(PATH_TO_CKPT, 'ckpt-0')).expect_partial()\n",
    "\n",
    "@tf.function\n",
    "def detect_fn(image):\n",
    "    image, shapes = detection_model.preprocess(image)\n",
    "    prediction_dict = detection_model.predict(image, shapes)\n",
    "    detections = detection_model.postprocess(prediction_dict, shapes)\n",
    "    \n",
    "    return detections\n",
    "\n",
    "end_time = time.time()\n",
    "elapsed_time = end_time - start_time\n",
    "print(\"Done! Took {} seconds\".format(elapsed_time))"
   ]
  },
  {
   "cell_type": "code",
   "execution_count": 4,
   "metadata": {},
   "outputs": [],
   "source": [
    "# Load label map data\n",
    "category_index = label_map_util.create_category_index_from_labelmap(\"annotations/label_map.pbtxt\", use_display_name=True)"
   ]
  },
  {
   "cell_type": "code",
   "execution_count": 19,
   "metadata": {},
   "outputs": [
    {
     "name": "stdout",
     "output_type": "stream",
     "text": [
      "Running inference for ./original1.jpg... Done!\n",
      "File saved.\n"
     ]
    }
   ],
   "source": [
    "import numpy as np\n",
    "from PIL import Image\n",
    "import matplotlib.pyplot as plt\n",
    "# import warnings\n",
    "# warnings.filterwarnings('ignore')\n",
    "\n",
    "def load_image_into_numpy_array(path):\n",
    "    return np.array(Image.open(path))\n",
    "\n",
    "for image_path in IMAGE_PATHS:\n",
    "    print(\"Running inference for {}...\".format(image_path), end='')\n",
    "    \n",
    "    image_np = load_image_into_numpy_array(image_path)\n",
    "    \n",
    "    input_tensor = tf.convert_to_tensor(np.expand_dims(image_np, 0), dtype=tf.float32)\n",
    "    \n",
    "    detections = detect_fn(input_tensor)\n",
    "    \n",
    "    # Output is batch tensors\n",
    "    # Take index [0] to remove batch dimension\n",
    "    num_detections = int(detections.pop('num_detections'))\n",
    "    detections = {key: value[0, :num_detections].numpy()\n",
    "                 for key, value in detections.items()}\n",
    "    detections['num_detections'] = num_detections\n",
    "    \n",
    "    detections['detection_classes'] = detections['detection_classes'].astype(np.int64)\n",
    "    \n",
    "    label_id_offset = 1\n",
    "    image_np_with_detections = image_np.copy()\n",
    "    \n",
    "    # Prune objects with high IoU with confident boxes\n",
    "    selected_indices = tf.image.non_max_suppression(\n",
    "        detections['detection_boxes'], \n",
    "        detections['detection_scores'], \n",
    "        max_output_size=200, \n",
    "        iou_threshold=0.3)\n",
    "    selected_boxes = tf.gather(detections['detection_boxes'], selected_indices)\n",
    "    selected_classes = tf.gather(detections['detection_classes'], selected_indices)\n",
    "    selected_scores = tf.gather(detections['detection_scores'], selected_indices)\n",
    "    \n",
    "    sess = tf.compat.v1.Session()\n",
    "    with sess.as_default():\n",
    "        boxes = selected_boxes.numpy()\n",
    "        classes = selected_classes.numpy()\n",
    "        scores = selected_scores.numpy()\n",
    "        \n",
    "    viz_utils.visualize_boxes_and_labels_on_image_array(\n",
    "        image_np_with_detections,\n",
    "        boxes,\n",
    "        classes+label_id_offset,\n",
    "        scores,\n",
    "        category_index,\n",
    "        use_normalized_coordinates=True,\n",
    "        max_boxes_to_draw=200,\n",
    "        min_score_thresh=.35,\n",
    "        skip_labels=True,\n",
    "        skip_scores=True,\n",
    "        agnostic_mode=False)\n",
    "    \n",
    "    plt.figure()\n",
    "    plt.imshow(image_np_with_detections)\n",
    "    print(\" Done!\")\n",
    "\n",
    "plt.savefig(\"inference.jpg\")\n",
    "print(\"File saved.\")\n",
    "#plt.show()"
   ]
  },
  {
   "cell_type": "code",
   "execution_count": null,
   "metadata": {},
   "outputs": [],
   "source": []
  }
 ],
 "metadata": {
  "kernelspec": {
   "display_name": "Python 3",
   "language": "python",
   "name": "python3"
  },
  "language_info": {
   "codemirror_mode": {
    "name": "ipython",
    "version": 3
   },
   "file_extension": ".py",
   "mimetype": "text/x-python",
   "name": "python",
   "nbconvert_exporter": "python",
   "pygments_lexer": "ipython3",
   "version": "3.8.5"
  }
 },
 "nbformat": 4,
 "nbformat_minor": 4
}
